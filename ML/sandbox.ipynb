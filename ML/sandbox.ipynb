{
 "cells": [
  {
   "cell_type": "markdown",
   "metadata": {},
   "source": [
    "# Do experiments here"
   ]
  },
  {
   "cell_type": "markdown",
   "metadata": {},
   "source": [
    "# Build a feature matrix"
   ]
  },
  {
   "cell_type": "code",
   "execution_count": 23,
   "metadata": {},
   "outputs": [],
   "source": [
    "import os\n",
    "import pandas as pd\n",
    "from sklearn.feature_extraction.text import TfidfVectorizer\n",
    "from sklearn.preprocessing import MultiLabelBinarizer\n",
    "import json\n",
    "from IPython.display import display, Image"
   ]
  },
  {
   "cell_type": "code",
   "execution_count": 24,
   "metadata": {},
   "outputs": [],
   "source": [
    "DATA_DIR = \"../Backend/MigrosData/Migros_case/products/en/\"\n",
    "\n",
    "# Step 1: Load all JSON files from the directory\n",
    "file_paths = [os.path.join(DATA_DIR, file) for file in os.listdir(DATA_DIR) if file.endswith('.json')]\n",
    "product_list = [json.load(open(file_path, 'r')) for file_path in file_paths]"
   ]
  },
  {
   "cell_type": "code",
   "execution_count": 25,
   "metadata": {},
   "outputs": [
    {
     "data": {
      "text/plain": [
       "39056"
      ]
     },
     "execution_count": 25,
     "metadata": {},
     "output_type": "execute_result"
    }
   ],
   "source": [
    "len(product_list)"
   ]
  },
  {
   "cell_type": "code",
   "execution_count": 26,
   "metadata": {},
   "outputs": [],
   "source": [
    "# Step 2: Extract relevant features\n",
    "def extract_features(product):\n",
    "    return {\n",
    "        'id': product['id'],\n",
    "        'name': product['name'],\n",
    "        'description': product['description']['text'] if 'description' in product and 'text' in product['description'] else '',\n",
    "        'brand': product['brand']['name'] if 'brand' in product else '',\n",
    "        'categories': [cat['name'] for cat in product['categories']] if 'categories' in product else [],\n",
    "        'image_url': product['image']['original'] if 'image' in product else '',\n",
    "    }"
   ]
  },
  {
   "cell_type": "code",
   "execution_count": 27,
   "metadata": {},
   "outputs": [],
   "source": [
    "\n",
    "features_list = [extract_features(product) for product in product_list]\n",
    "df = pd.DataFrame(features_list)\n"
   ]
  },
  {
   "cell_type": "code",
   "execution_count": 28,
   "metadata": {},
   "outputs": [],
   "source": [
    "# Step 3: Vectorize textual features using TF-IDF\n",
    "tfidf_vectorizer_name = TfidfVectorizer(max_features=500)\n",
    "tfidf_vectorizer_description = TfidfVectorizer(max_features=500)\n",
    "name_matrix = tfidf_vectorizer_name.fit_transform(df['name'])\n",
    "description_matrix = tfidf_vectorizer_description.fit_transform(df['description'])\n"
   ]
  },
  {
   "cell_type": "code",
   "execution_count": 29,
   "metadata": {},
   "outputs": [],
   "source": [
    "# Step 4: One-Hot encode categorical features\n",
    "mlb_brand = MultiLabelBinarizer()\n",
    "brand_matrix = mlb_brand.fit_transform(df['brand'].values.reshape(-1, 1))\n",
    "\n",
    "mlb_categories = MultiLabelBinarizer()\n",
    "categories_matrix = mlb_categories.fit_transform(df['categories'])\n"
   ]
  },
  {
   "cell_type": "code",
   "execution_count": 30,
   "metadata": {},
   "outputs": [
    {
     "data": {
      "text/plain": [
       "(39056, 2607)"
      ]
     },
     "execution_count": 30,
     "metadata": {},
     "output_type": "execute_result"
    }
   ],
   "source": [
    "# Step 5: Concatenate all feature matrices to get the final feature matrix for all products\n",
    "final_matrix = pd.concat([pd.DataFrame(name_matrix.todense()), \n",
    "                        pd.DataFrame(description_matrix.todense()), \n",
    "                        pd.DataFrame(brand_matrix), \n",
    "                        pd.DataFrame(categories_matrix)], axis=1)\n",
    "\n",
    "final_matrix.shape\n"
   ]
  },
  {
   "cell_type": "code",
   "execution_count": 31,
   "metadata": {},
   "outputs": [
    {
     "data": {
      "text/plain": [
       "0      370\n",
       "1       80\n",
       "2       57\n",
       "3      136\n",
       "4       56\n",
       "      ... \n",
       "630     37\n",
       "631     65\n",
       "632     34\n",
       "633      2\n",
       "634     30\n",
       "Length: 2607, dtype: int64"
      ]
     },
     "execution_count": 31,
     "metadata": {},
     "output_type": "execute_result"
    }
   ],
   "source": [
    "# count zeros of each column\n",
    "final_matrix.astype(bool).sum(axis=0)"
   ]
  },
  {
   "cell_type": "markdown",
   "metadata": {},
   "source": [
    "# Get similar items"
   ]
  },
  {
   "cell_type": "code",
   "execution_count": 32,
   "metadata": {},
   "outputs": [],
   "source": [
    "from sklearn.metrics.pairwise import cosine_similarity\n",
    "\n",
    "def get_similar_products(product_vector, matrix, product_ids, top_n=5):\n",
    "    \"\"\"\n",
    "    Compute the cosine similarity between the given product vector and all vectors in the matrix.\n",
    "    Return the top_n most similar product IDs.\n",
    "    \"\"\"\n",
    "    # Compute cosine similarities\n",
    "    similarities = cosine_similarity(product_vector, matrix)\n",
    "    \n",
    "    # Get top_n product indices\n",
    "    top_indices = similarities[0].argsort()[-top_n:][::-1]\n",
    "    \n",
    "    # Get product IDs for the top indices\n",
    "    similar_products = [product_ids[idx] for idx in top_indices]\n",
    "    \n",
    "    return similar_products"
   ]
  },
  {
   "cell_type": "code",
   "execution_count": 38,
   "metadata": {},
   "outputs": [
    {
     "data": {
      "text/html": [
       "<img src=\"https://image.migros.ch/original/103ad1c61787e4d07c71e1e930208d325d255851/tessinerbrot-ip-suisse.jpg\" width=\"300\"/>"
      ],
      "text/plain": [
       "<IPython.core.display.Image object>"
      ]
     },
     "metadata": {},
     "output_type": "display_data"
    },
    {
     "data": {
      "text/html": [
       "<div>\n",
       "<style scoped>\n",
       "    .dataframe tbody tr th:only-of-type {\n",
       "        vertical-align: middle;\n",
       "    }\n",
       "\n",
       "    .dataframe tbody tr th {\n",
       "        vertical-align: top;\n",
       "    }\n",
       "\n",
       "    .dataframe thead th {\n",
       "        text-align: right;\n",
       "    }\n",
       "</style>\n",
       "<table border=\"1\" class=\"dataframe\">\n",
       "  <thead>\n",
       "    <tr style=\"text-align: right;\">\n",
       "      <th></th>\n",
       "      <th>id</th>\n",
       "      <th>name</th>\n",
       "      <th>description</th>\n",
       "      <th>brand</th>\n",
       "      <th>categories</th>\n",
       "      <th>image_url</th>\n",
       "    </tr>\n",
       "  </thead>\n",
       "  <tbody>\n",
       "    <tr>\n",
       "      <th>22937</th>\n",
       "      <td>111487700500</td>\n",
       "      <td>Silserkranz IP-SUISSE</td>\n",
       "      <td></td>\n",
       "      <td></td>\n",
       "      <td>[Brote hell, Brote, Bäckerei, Confiserie &amp; Bac...</td>\n",
       "      <td>https://image.migros.ch/original/b15c8990aa056...</td>\n",
       "    </tr>\n",
       "  </tbody>\n",
       "</table>\n",
       "</div>"
      ],
      "text/plain": [
       "                 id                   name description brand  \\\n",
       "22937  111487700500  Silserkranz IP-SUISSE                     \n",
       "\n",
       "                                              categories  \\\n",
       "22937  [Brote hell, Brote, Bäckerei, Confiserie & Bac...   \n",
       "\n",
       "                                               image_url  \n",
       "22937  https://image.migros.ch/original/b15c8990aa056...  "
      ]
     },
     "metadata": {},
     "output_type": "display_data"
    },
    {
     "data": {
      "text/html": [
       "<img src=\"https://image.migros.ch/original/b15c8990aa0567739f0cc5aacde4cd1f3b1a571b/silserkranz-ip-suisse.jpg\" width=\"300\"/>"
      ],
      "text/plain": [
       "<IPython.core.display.Image object>"
      ]
     },
     "metadata": {},
     "output_type": "display_data"
    },
    {
     "data": {
      "text/html": [
       "<div>\n",
       "<style scoped>\n",
       "    .dataframe tbody tr th:only-of-type {\n",
       "        vertical-align: middle;\n",
       "    }\n",
       "\n",
       "    .dataframe tbody tr th {\n",
       "        vertical-align: top;\n",
       "    }\n",
       "\n",
       "    .dataframe thead th {\n",
       "        text-align: right;\n",
       "    }\n",
       "</style>\n",
       "<table border=\"1\" class=\"dataframe\">\n",
       "  <thead>\n",
       "    <tr style=\"text-align: right;\">\n",
       "      <th></th>\n",
       "      <th>id</th>\n",
       "      <th>name</th>\n",
       "      <th>description</th>\n",
       "      <th>brand</th>\n",
       "      <th>categories</th>\n",
       "      <th>image_url</th>\n",
       "    </tr>\n",
       "  </thead>\n",
       "  <tbody>\n",
       "    <tr>\n",
       "      <th>28571</th>\n",
       "      <td>111443000000</td>\n",
       "      <td>Mailänder Brot IP-SUISSE</td>\n",
       "      <td></td>\n",
       "      <td></td>\n",
       "      <td>[Brote hell, Brote, Bäckerei, Confiserie &amp; Bac...</td>\n",
       "      <td>https://image.migros.ch/original/b7e3f1da12e72...</td>\n",
       "    </tr>\n",
       "  </tbody>\n",
       "</table>\n",
       "</div>"
      ],
      "text/plain": [
       "                 id                      name description brand  \\\n",
       "28571  111443000000  Mailänder Brot IP-SUISSE                     \n",
       "\n",
       "                                              categories  \\\n",
       "28571  [Brote hell, Brote, Bäckerei, Confiserie & Bac...   \n",
       "\n",
       "                                               image_url  \n",
       "28571  https://image.migros.ch/original/b7e3f1da12e72...  "
      ]
     },
     "metadata": {},
     "output_type": "display_data"
    },
    {
     "data": {
      "text/html": [
       "<img src=\"https://image.migros.ch/original/b7e3f1da12e72e17b475569ea2b8ef4b893f9565/mailaender-brot-ip-suisse.jpg\" width=\"300\"/>"
      ],
      "text/plain": [
       "<IPython.core.display.Image object>"
      ]
     },
     "metadata": {},
     "output_type": "display_data"
    },
    {
     "data": {
      "text/html": [
       "<div>\n",
       "<style scoped>\n",
       "    .dataframe tbody tr th:only-of-type {\n",
       "        vertical-align: middle;\n",
       "    }\n",
       "\n",
       "    .dataframe tbody tr th {\n",
       "        vertical-align: top;\n",
       "    }\n",
       "\n",
       "    .dataframe thead th {\n",
       "        text-align: right;\n",
       "    }\n",
       "</style>\n",
       "<table border=\"1\" class=\"dataframe\">\n",
       "  <thead>\n",
       "    <tr style=\"text-align: right;\">\n",
       "      <th></th>\n",
       "      <th>id</th>\n",
       "      <th>name</th>\n",
       "      <th>description</th>\n",
       "      <th>brand</th>\n",
       "      <th>categories</th>\n",
       "      <th>image_url</th>\n",
       "    </tr>\n",
       "  </thead>\n",
       "  <tbody>\n",
       "    <tr>\n",
       "      <th>14030</th>\n",
       "      <td>111474500000</td>\n",
       "      <td>Taillaule IP-SUISSE</td>\n",
       "      <td></td>\n",
       "      <td></td>\n",
       "      <td>[Brote hell, Brote, Bäckerei, Confiserie &amp; Bac...</td>\n",
       "      <td>https://image.migros.ch/original/6430863930265...</td>\n",
       "    </tr>\n",
       "  </tbody>\n",
       "</table>\n",
       "</div>"
      ],
      "text/plain": [
       "                 id                 name description brand  \\\n",
       "14030  111474500000  Taillaule IP-SUISSE                     \n",
       "\n",
       "                                              categories  \\\n",
       "14030  [Brote hell, Brote, Bäckerei, Confiserie & Bac...   \n",
       "\n",
       "                                               image_url  \n",
       "14030  https://image.migros.ch/original/6430863930265...  "
      ]
     },
     "metadata": {},
     "output_type": "display_data"
    },
    {
     "data": {
      "text/html": [
       "<img src=\"https://image.migros.ch/original/643086393026569ed2cebd34f79a94892acebbfe/taillaule-ip-suisse.jpg\" width=\"300\"/>"
      ],
      "text/plain": [
       "<IPython.core.display.Image object>"
      ]
     },
     "metadata": {},
     "output_type": "display_data"
    },
    {
     "data": {
      "text/html": [
       "<div>\n",
       "<style scoped>\n",
       "    .dataframe tbody tr th:only-of-type {\n",
       "        vertical-align: middle;\n",
       "    }\n",
       "\n",
       "    .dataframe tbody tr th {\n",
       "        vertical-align: top;\n",
       "    }\n",
       "\n",
       "    .dataframe thead th {\n",
       "        text-align: right;\n",
       "    }\n",
       "</style>\n",
       "<table border=\"1\" class=\"dataframe\">\n",
       "  <thead>\n",
       "    <tr style=\"text-align: right;\">\n",
       "      <th></th>\n",
       "      <th>id</th>\n",
       "      <th>name</th>\n",
       "      <th>description</th>\n",
       "      <th>brand</th>\n",
       "      <th>categories</th>\n",
       "      <th>image_url</th>\n",
       "    </tr>\n",
       "  </thead>\n",
       "  <tbody>\n",
       "    <tr>\n",
       "      <th>32710</th>\n",
       "      <td>111481800500</td>\n",
       "      <td>Tessinerbrot IP-SUISSE</td>\n",
       "      <td></td>\n",
       "      <td></td>\n",
       "      <td>[Brote hell, Brote, Bäckerei, Confiserie &amp; Bac...</td>\n",
       "      <td>https://image.migros.ch/original/103ad1c61787e...</td>\n",
       "    </tr>\n",
       "  </tbody>\n",
       "</table>\n",
       "</div>"
      ],
      "text/plain": [
       "                 id                    name description brand  \\\n",
       "32710  111481800500  Tessinerbrot IP-SUISSE                     \n",
       "\n",
       "                                              categories  \\\n",
       "32710  [Brote hell, Brote, Bäckerei, Confiserie & Bac...   \n",
       "\n",
       "                                               image_url  \n",
       "32710  https://image.migros.ch/original/103ad1c61787e...  "
      ]
     },
     "metadata": {},
     "output_type": "display_data"
    },
    {
     "data": {
      "text/html": [
       "<img src=\"https://image.migros.ch/original/103ad1c61787e4d07c71e1e930208d325d255851/tessinerbrot-ip-suisse.jpg\" width=\"300\"/>"
      ],
      "text/plain": [
       "<IPython.core.display.Image object>"
      ]
     },
     "metadata": {},
     "output_type": "display_data"
    },
    {
     "data": {
      "text/html": [
       "<div>\n",
       "<style scoped>\n",
       "    .dataframe tbody tr th:only-of-type {\n",
       "        vertical-align: middle;\n",
       "    }\n",
       "\n",
       "    .dataframe tbody tr th {\n",
       "        vertical-align: top;\n",
       "    }\n",
       "\n",
       "    .dataframe thead th {\n",
       "        text-align: right;\n",
       "    }\n",
       "</style>\n",
       "<table border=\"1\" class=\"dataframe\">\n",
       "  <thead>\n",
       "    <tr style=\"text-align: right;\">\n",
       "      <th></th>\n",
       "      <th>id</th>\n",
       "      <th>name</th>\n",
       "      <th>description</th>\n",
       "      <th>brand</th>\n",
       "      <th>categories</th>\n",
       "      <th>image_url</th>\n",
       "    </tr>\n",
       "  </thead>\n",
       "  <tbody>\n",
       "    <tr>\n",
       "      <th>19199</th>\n",
       "      <td>111458100500</td>\n",
       "      <td>Laugentessinerbrot IP-SUISSE</td>\n",
       "      <td></td>\n",
       "      <td></td>\n",
       "      <td>[Brote hell, Brote, Bäckerei, Confiserie &amp; Bac...</td>\n",
       "      <td>https://image.migros.ch/original/8e67660919aa5...</td>\n",
       "    </tr>\n",
       "  </tbody>\n",
       "</table>\n",
       "</div>"
      ],
      "text/plain": [
       "                 id                          name description brand  \\\n",
       "19199  111458100500  Laugentessinerbrot IP-SUISSE                     \n",
       "\n",
       "                                              categories  \\\n",
       "19199  [Brote hell, Brote, Bäckerei, Confiserie & Bac...   \n",
       "\n",
       "                                               image_url  \n",
       "19199  https://image.migros.ch/original/8e67660919aa5...  "
      ]
     },
     "metadata": {},
     "output_type": "display_data"
    },
    {
     "data": {
      "text/html": [
       "<img src=\"https://image.migros.ch/original/8e67660919aa585bd263626344c635f51969f7c8/laugentessinerbrot-ip-suisse.jpg\" width=\"300\"/>"
      ],
      "text/plain": [
       "<IPython.core.display.Image object>"
      ]
     },
     "metadata": {},
     "output_type": "display_data"
    }
   ],
   "source": [
    "# Suppose we want to find products similar to the product with ID '110230800000'\n",
    "product_id = '111481800500'\n",
    "product_idx = df[df['id'] == product_id].index[0]\n",
    "product_image = df[df['id'] == product_id]['image_url'].values[0]\n",
    "product_vector = final_matrix.iloc[product_idx].values.reshape(1, -1)\n",
    "\n",
    "display(Image(url=product_image, width=300))\n",
    "\n",
    "\n",
    "# Get the top 5 similar products\n",
    "similar_products = get_similar_products(product_vector, final_matrix, df['id'].tolist(), top_n=5)\n",
    "\n",
    "for similar_product in similar_products:\n",
    "    display(df[df['id'] == similar_product])\n",
    "    display(Image(url=df[df['id'] == similar_product]['image_url'].values[0], width=300))\n"
   ]
  },
  {
   "cell_type": "code",
   "execution_count": null,
   "metadata": {},
   "outputs": [],
   "source": []
  }
 ],
 "metadata": {
  "kernelspec": {
   "display_name": "backend-Uca-3ecM-py3.9",
   "language": "python",
   "name": "python3"
  },
  "language_info": {
   "codemirror_mode": {
    "name": "ipython",
    "version": 3
   },
   "file_extension": ".py",
   "mimetype": "text/x-python",
   "name": "python",
   "nbconvert_exporter": "python",
   "pygments_lexer": "ipython3",
   "version": "3.9.16"
  },
  "orig_nbformat": 4
 },
 "nbformat": 4,
 "nbformat_minor": 2
}
