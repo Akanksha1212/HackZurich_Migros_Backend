{
 "cells": [
  {
   "cell_type": "markdown",
   "metadata": {},
   "source": [
    "# Do experiments here"
   ]
  },
  {
   "cell_type": "code",
   "execution_count": 3,
   "metadata": {},
   "outputs": [],
   "source": [
    "import os\n",
    "import pandas as pd\n",
    "from sklearn.feature_extraction.text import TfidfVectorizer\n",
    "from sklearn.preprocessing import MultiLabelBinarizer\n",
    "import json"
   ]
  },
  {
   "cell_type": "code",
   "execution_count": 4,
   "metadata": {},
   "outputs": [],
   "source": [
    "DATA_DIR = \"../Backend/MigrosData/Migros_case/products/en/\"\n",
    "\n",
    "# Step 1: Load all JSON files from the directory\n",
    "file_paths = [os.path.join(DATA_DIR, file) for file in os.listdir(DATA_DIR) if file.endswith('.json')]\n",
    "product_list = [json.load(open(file_path, 'r')) for file_path in file_paths]"
   ]
  },
  {
   "cell_type": "code",
   "execution_count": 5,
   "metadata": {},
   "outputs": [
    {
     "data": {
      "text/plain": [
       "39056"
      ]
     },
     "execution_count": 5,
     "metadata": {},
     "output_type": "execute_result"
    }
   ],
   "source": [
    "len(product_list)"
   ]
  },
  {
   "cell_type": "code",
   "execution_count": 6,
   "metadata": {},
   "outputs": [],
   "source": [
    "# Step 2: Extract relevant features\n",
    "def extract_features(product):\n",
    "    return {\n",
    "        'id': product['id'],\n",
    "        'name': product['name'],\n",
    "        'description': product['description']['text'] if 'description' in product and 'text' in product['description'] else '',\n",
    "        'brand': product['brand']['name'] if 'brand' in product else '',\n",
    "        'categories': [cat['name'] for cat in product['categories']] if 'categories' in product else []\n",
    "    }"
   ]
  },
  {
   "cell_type": "code",
   "execution_count": 7,
   "metadata": {},
   "outputs": [],
   "source": [
    "\n",
    "features_list = [extract_features(product) for product in product_list]\n",
    "df = pd.DataFrame(features_list)\n"
   ]
  },
  {
   "cell_type": "code",
   "execution_count": 8,
   "metadata": {},
   "outputs": [],
   "source": [
    "# Step 3: Vectorize textual features using TF-IDF\n",
    "tfidf_vectorizer_name = TfidfVectorizer(max_features=500)\n",
    "tfidf_vectorizer_description = TfidfVectorizer(max_features=500)\n",
    "name_matrix = tfidf_vectorizer_name.fit_transform(df['name'])\n",
    "description_matrix = tfidf_vectorizer_description.fit_transform(df['description'])\n"
   ]
  },
  {
   "cell_type": "code",
   "execution_count": 9,
   "metadata": {},
   "outputs": [],
   "source": [
    "# Step 4: One-Hot encode categorical features\n",
    "mlb_brand = MultiLabelBinarizer()\n",
    "brand_matrix = mlb_brand.fit_transform(df['brand'].values.reshape(-1, 1))\n",
    "\n",
    "mlb_categories = MultiLabelBinarizer()\n",
    "categories_matrix = mlb_categories.fit_transform(df['categories'])\n"
   ]
  },
  {
   "cell_type": "code",
   "execution_count": 10,
   "metadata": {},
   "outputs": [
    {
     "data": {
      "text/plain": [
       "(39056, 2607)"
      ]
     },
     "execution_count": 10,
     "metadata": {},
     "output_type": "execute_result"
    }
   ],
   "source": [
    "# Step 5: Concatenate all feature matrices to get the final feature matrix for all products\n",
    "final_matrix = pd.concat([pd.DataFrame(name_matrix.todense()), \n",
    "                        pd.DataFrame(description_matrix.todense()), \n",
    "                        pd.DataFrame(brand_matrix), \n",
    "                        pd.DataFrame(categories_matrix)], axis=1)\n",
    "\n",
    "final_matrix.shape\n"
   ]
  },
  {
   "cell_type": "code",
   "execution_count": 15,
   "metadata": {},
   "outputs": [
    {
     "data": {
      "text/plain": [
       "0      370\n",
       "1       80\n",
       "2       57\n",
       "3      136\n",
       "4       56\n",
       "      ... \n",
       "630     37\n",
       "631     65\n",
       "632     34\n",
       "633      2\n",
       "634     30\n",
       "Length: 2607, dtype: int64"
      ]
     },
     "execution_count": 15,
     "metadata": {},
     "output_type": "execute_result"
    }
   ],
   "source": [
    "# count zeros of each column\n",
    "final_matrix.astype(bool).sum(axis=0)"
   ]
  },
  {
   "cell_type": "code",
   "execution_count": null,
   "metadata": {},
   "outputs": [],
   "source": []
  }
 ],
 "metadata": {
  "kernelspec": {
   "display_name": "backend-Uca-3ecM-py3.9",
   "language": "python",
   "name": "python3"
  },
  "language_info": {
   "codemirror_mode": {
    "name": "ipython",
    "version": 3
   },
   "file_extension": ".py",
   "mimetype": "text/x-python",
   "name": "python",
   "nbconvert_exporter": "python",
   "pygments_lexer": "ipython3",
   "version": "3.9.16"
  },
  "orig_nbformat": 4
 },
 "nbformat": 4,
 "nbformat_minor": 2
}
